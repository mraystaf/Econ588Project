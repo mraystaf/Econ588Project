{
 "cells": [
  {
   "cell_type": "code",
   "execution_count": 5,
   "metadata": {},
   "outputs": [],
   "source": [
    "import numpy as np\n",
    "import pandas as pd\n",
    "from scipy.stats import norm, poisson\n",
    "from scipy.optimize import minimize\n",
    "# import statsmodels.api as sm\n",
    "\n",
    "# Synthetic data generation\n",
    "def generate_data(n=1000, beta=[1, 0.5], censoring=True, dist=\"normal\"):\n",
    "    np.random.seed(42)\n",
    "    X = np.random.normal(size=(n, len(beta)))\n",
    "    if dist == \"normal\":\n",
    "        y_star = X @ beta + np.random.normal(scale=1, size=n)\n",
    "    elif dist == \"poisson\":\n",
    "        lambda_ = np.exp(X @ beta)\n",
    "        y_star = poisson.rvs(lambda_)\n",
    "    y = np.maximum(0, y_star) if censoring else y_star\n",
    "    return X, y\n",
    "\n",
    "# Tobit MLE\n",
    "def tobit_log_likelihood(params, X, y):\n",
    "    beta, sigma = params[:-1], params[-1]\n",
    "    y_star = X @ beta\n",
    "    censored = y == 0\n",
    "    ll_censored = np.log(norm.cdf(-y_star[censored] / sigma))\n",
    "    ll_uncensored = norm.logpdf(y[~censored], loc=y_star[~censored], scale=sigma)\n",
    "    return -(ll_censored.sum() + ll_uncensored.sum())\n",
    "\n",
    "def fit_tobit(X, y):\n",
    "    init_params = np.ones(X.shape[1] + 1)  # betas and sigma\n",
    "    result = minimize(tobit_log_likelihood, init_params, args=(X, y), method=\"BFGS\")\n",
    "    return result.x\n",
    "\n",
    "# Tobit-Poisson MLE\n",
    "def tobit_poisson_log_likelihood(beta, X, y):\n",
    "    lambda_ = np.exp(X @ beta)\n",
    "    censored = y == 0\n",
    "    ll_censored = -lambda_[censored]\n",
    "    ll_uncensored = y[~censored] * np.log(lambda_[~censored]) - lambda_[~censored] - np.log(np.arange(1, y[~censored].max() + 1)).sum()\n",
    "    return -(ll_censored.sum() + ll_uncensored.sum())\n",
    "\n",
    "def fit_tobit_poisson(X, y):\n",
    "    init_params = np.ones(X.shape[1])\n",
    "    result = minimize(tobit_poisson_log_likelihood, init_params, args=(X, y), method=\"BFGS\")\n",
    "    return result.x"
   ]
  },
  {
   "cell_type": "code",
   "execution_count": 6,
   "metadata": {},
   "outputs": [
    {
     "name": "stderr",
     "output_type": "stream",
     "text": [
      "C:\\Users\\benja\\AppData\\Local\\Temp\\ipykernel_13552\\4005871427.py:24: RuntimeWarning: divide by zero encountered in log\n",
      "  ll_censored = np.log(norm.cdf(-y_star[censored] / sigma))\n",
      "C:\\Users\\benja\\AppData\\Local\\Temp\\ipykernel_13552\\4005871427.py:24: RuntimeWarning: divide by zero encountered in log\n",
      "  ll_censored = np.log(norm.cdf(-y_star[censored] / sigma))\n"
     ]
    }
   ],
   "source": [
    "# Main workflow\n",
    "X_normal, y_normal = generate_data(dist=\"normal\")\n",
    "X_poisson, y_poisson = generate_data(dist=\"poisson\")\n",
    "\n",
    "# Fit models\n",
    "tobit_normal_params = fit_tobit(X_normal, y_normal)\n",
    "tobit_poisson_params = fit_tobit_poisson(X_normal, y_normal)\n",
    "\n",
    "poisson_poisson_params = fit_tobit_poisson(X_poisson, y_poisson)\n",
    "poisson_normal_params = fit_tobit(X_poisson, y_poisson)"
   ]
  },
  {
   "cell_type": "code",
   "execution_count": 7,
   "metadata": {},
   "outputs": [
    {
     "name": "stdout",
     "output_type": "stream",
     "text": [
      "Tobit Model Parameters (Normal Data):\t [1.01456973 0.52315274 0.97516277]\n",
      "Poisson Model Parameters (Normal Data):\t [21003.16631965  6599.3593546  -3156.22361617]\n",
      "Tobit Model Parameters (Poisson Data):\t [0.44614059 0.20731184]\n",
      "Poisson Model Parameters (Poisson Data): [0.97071057 0.50767663]\n"
     ]
    }
   ],
   "source": [
    "# Print results\n",
    "print(f\"Tobit Model Parameters (Normal Data):\\t\", tobit_normal_params)\n",
    "print(f\"Poisson Model Parameters (Normal Data):\\t\", poisson_normal_params)\n",
    "print(f\"Tobit Model Parameters (Poisson Data):\\t\", tobit_poisson_params)\n",
    "print(f\"Poisson Model Parameters (Poisson Data):\", poisson_poisson_params)"
   ]
  },
  {
   "cell_type": "code",
   "execution_count": null,
   "metadata": {},
   "outputs": [],
   "source": []
  }
 ],
 "metadata": {
  "kernelspec": {
   "display_name": "Python 3",
   "language": "python",
   "name": "python3"
  },
  "language_info": {
   "codemirror_mode": {
    "name": "ipython",
    "version": 3
   },
   "file_extension": ".py",
   "mimetype": "text/x-python",
   "name": "python",
   "nbconvert_exporter": "python",
   "pygments_lexer": "ipython3",
   "version": "3.10.8"
  }
 },
 "nbformat": 4,
 "nbformat_minor": 2
}
